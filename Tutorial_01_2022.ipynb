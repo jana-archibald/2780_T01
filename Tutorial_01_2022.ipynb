{
 "cells": [
  {
   "cell_type": "markdown",
   "id": "6c2fc42e",
   "metadata": {
    "editable": false
   },
   "source": [
    "# Tutorial 1: Inference for One Proportion"
   ]
  },
  {
   "cell_type": "markdown",
   "id": "7c71b18d",
   "metadata": {
    "editable": false
   },
   "source": [
    "## Objectives: ##\n",
    "\n",
    "To become familiar with computing confidence intervals and performing hypothesis tests for one proportion."
   ]
  },
  {
   "cell_type": "markdown",
   "id": "566e7a15",
   "metadata": {
    "editable": false
   },
   "source": [
    "## Instructions: ##\n",
    "\n",
    "* Do NOT round any of the values unless your are explicitly told to do so in the question.\n",
    "* You  compute the required values using R as your calculator."
   ]
  },
  {
   "cell_type": "markdown",
   "id": "ac90e6af",
   "metadata": {
    "editable": false
   },
   "source": [
    "## Formulae: ##\n",
    "\n",
    "### Confidence Intervals\n",
    "\n",
    "A confidence interval is calculated by finding\n",
    "$$(point\\  \\  \\  estimate) \\pm z^*\\times SE$$\n",
    "\n",
    "Thus, the confidence interval for one proportion is calculated by finding\n",
    "$$ \\hat p \\pm z^* \\times\\sqrt{\\frac{\\hat p \\times (1-\\hat p)}{n}}$$\n"
   ]
  },
  {
   "cell_type": "markdown",
   "id": "95facc1f",
   "metadata": {
    "editable": false
   },
   "source": [
    "## Data Information: ##\n",
    "The data for this tutorial was inspired by:\n",
    "* \"Canadian postsecondary enrolments and graduates, 2016/2017.\" Statistics Canada. 2018-11-28. https://www150.statcan.gc.ca/n1/daily-quotidien/181128/dq181128c-eng.htm.\n"
   ]
  },
  {
   "cell_type": "markdown",
   "id": "6ad238bb",
   "metadata": {
    "editable": false
   },
   "source": [
    "Suppose a sample of students enrolled in Canadian universities yielded the following data   \n",
    "​\n",
    "<table>             \n",
    "<tr><th>    Field of study  </th><th>   2016/2017   </th></tr>\n",
    "<tr><td>    Personal improvement and leisure    </td><td>   3   </td></tr>\n",
    "<tr><td>    Education   </td><td>   77  </td></tr>\n",
    "<tr><td>    Visual and performing arts, and communications technologies </td><td>   41  </td></tr>\n",
    "<tr><td>    Humanities  </td><td>   159 </td></tr>\n",
    "<tr><td>    Social and behavioural sciences, and law    </td><td>   225 </td></tr>\n",
    "<tr><td>    Business, management and public administration  </td><td>   262 </td></tr>\n",
    "<tr><td>    Physical and life sciences, and technologies    </td><td>   136 </td></tr>\n",
    "<tr><td>    Mathematics, computer and information sciences  </td><td>   55  </td></tr>\n",
    "<tr><td>    Architecture, engineering and related technologies  </td><td>   136 </td></tr>\n",
    "<tr><td>    Agriculture, natural resources and conservation </td><td>   23  </td></tr>\n",
    "<tr><td>    Health and related fields   </td><td>   170 </td></tr>\n",
    "<tr><td>    Personal, protective and transportation services    </td><td>   7   </td></tr>\n",
    "<tr><td>    Other fields of study   </td><td>   42  </td></tr>\n",
    "<tr><th>    Total   </th><th>   1336    </th></tr>\n",
    "</table>                \n",
    "​"
   ]
  },
  {
   "cell_type": "markdown",
   "id": "2d8b0b3a",
   "metadata": {},
   "source": [
    "## Question 1. Construct a Confidence Interval ##"
   ]
  },
  {
   "cell_type": "markdown",
   "id": "f3b693bc",
   "metadata": {
    "editable": false
   },
   "source": [
    "\t\t\t\n",
    "\n",
    "\n",
    "* a. What proportion of all the students in this survey reported their field of study to be Humanities?\n",
    "* b. To calculate a 95% confidence interval, $z^* = 1.96$. Find the 95% confidence interval for the proportion of students studying Humanities.\n",
    "* c. Write a sentence, including your 95% confidence interval, summarising the results of the study.\n",
    "* d. What value do you use for $z^*$ to create a 93% confidence interval (round to 2 decimal places). [You can use qnorm to find this value]\n",
    "* e. Find the 93% confidence interval for the proportion of students studying Humanities.\n",
    "* f. Write a sentence, including your 93% confidence interval, summarising the results of the study."
   ]
  },
  {
   "cell_type": "markdown",
   "id": "9afe2fc0",
   "metadata": {
    "editable": false
   },
   "source": [
    "### Answer 1.a. ##"
   ]
  },
  {
   "cell_type": "code",
   "execution_count": null,
   "id": "cec08bb9",
   "metadata": {},
   "outputs": [],
   "source": [
    "Calculate the proportion."
   ]
  },
  {
   "cell_type": "markdown",
   "id": "67f0613f",
   "metadata": {},
   "source": [
    "Answer with a sentence."
   ]
  },
  {
   "cell_type": "markdown",
   "id": "66a62394",
   "metadata": {
    "editable": false
   },
   "source": [
    "### Answer 1.b. ##"
   ]
  },
  {
   "cell_type": "code",
   "execution_count": null,
   "id": "3dc9163b",
   "metadata": {},
   "outputs": [],
   "source": [
    "Calculate the lower limit."
   ]
  },
  {
   "cell_type": "code",
   "execution_count": null,
   "id": "aa49ba82",
   "metadata": {},
   "outputs": [],
   "source": [
    "Calculate the upper limit."
   ]
  },
  {
   "cell_type": "markdown",
   "id": "b3e7dcfa",
   "metadata": {
    "editable": false
   },
   "source": [
    "### Answer 1.c. ##"
   ]
  },
  {
   "cell_type": "markdown",
   "id": "33e4b48d",
   "metadata": {},
   "source": [
    "Answer with a sentence."
   ]
  },
  {
   "cell_type": "markdown",
   "id": "58970885",
   "metadata": {
    "editable": false
   },
   "source": [
    "### Answer 1.d. ##"
   ]
  },
  {
   "cell_type": "code",
   "execution_count": null,
   "id": "0564f1cb",
   "metadata": {},
   "outputs": [],
   "source": [
    "Calculate z*"
   ]
  },
  {
   "cell_type": "markdown",
   "id": "c8dc9fb0",
   "metadata": {
    "editable": false
   },
   "source": [
    "### Answer 1.e. ##"
   ]
  },
  {
   "cell_type": "code",
   "execution_count": null,
   "id": "3df90524",
   "metadata": {},
   "outputs": [],
   "source": [
    "Calculate the lower limit."
   ]
  },
  {
   "cell_type": "code",
   "execution_count": null,
   "id": "de00fb6c",
   "metadata": {},
   "outputs": [],
   "source": [
    "Calculate the upper limit."
   ]
  },
  {
   "cell_type": "markdown",
   "id": "e211addf",
   "metadata": {
    "editable": false
   },
   "source": [
    "### Answer 1.f. ##"
   ]
  },
  {
   "cell_type": "markdown",
   "id": "f1457f10",
   "metadata": {},
   "source": [
    "Answer with a sentence."
   ]
  },
  {
   "cell_type": "markdown",
   "id": "83e940e5",
   "metadata": {
    "editable": false
   },
   "source": [
    "## Question 2. p-value Calculations ##\n",
    "\n",
    "Calculate the p-value for the following situation.\n",
    "\n",
    "### $H_0$:  p=0.1\n",
    "\n",
    "### $H_a$:  p<0.1\n",
    "\n",
    "\n",
    "A sample of size 400 was taken, and 37 were successes.\n",
    "\n",
    "* a. Calculate the standard error.\n",
    "* b. Calculate the p-value.\n",
    "* c. What would the conclusion of the hypothesis test be."
   ]
  },
  {
   "cell_type": "markdown",
   "id": "f9e4dabc",
   "metadata": {
    "editable": false
   },
   "source": [
    "### Answer 2.a. ##"
   ]
  },
  {
   "cell_type": "code",
   "execution_count": null,
   "id": "8a173313",
   "metadata": {},
   "outputs": [],
   "source": [
    "Calculate SE"
   ]
  },
  {
   "cell_type": "markdown",
   "id": "92f88f9c",
   "metadata": {
    "editable": false
   },
   "source": [
    "### Answer 2.b. ##"
   ]
  },
  {
   "cell_type": "code",
   "execution_count": null,
   "id": "ab861331",
   "metadata": {},
   "outputs": [],
   "source": [
    "Calculate p-value"
   ]
  },
  {
   "cell_type": "markdown",
   "id": "9d8b8def",
   "metadata": {
    "editable": false
   },
   "source": [
    "### Answer 2.c. ##"
   ]
  },
  {
   "cell_type": "markdown",
   "id": "787785a5",
   "metadata": {},
   "source": [
    "Write answer here."
   ]
  },
  {
   "cell_type": "markdown",
   "id": "b9a659e4",
   "metadata": {
    "editable": false
   },
   "source": [
    "## You now need to upload your work to Crowdmark. \n",
    "\n",
    "You will need to make a pdf of your work here.\n",
    "\n",
    "You can use the print to pdf option in your browser. \n",
    "\n",
    "You can also use File>Download as >pdf via latex"
   ]
  },
  {
   "cell_type": "markdown",
   "id": "f6f9c6b9",
   "metadata": {
    "editable": false
   },
   "source": [
    "#### This tutorial is released under a Creative Commons Attribution-ShareAlike 3.0 Unported.\n",
    "\n",
    "This tutorial has been adapted from a lab that  was created by Nicole Wilson"
   ]
  }
 ],
 "metadata": {
  "kernelspec": {
   "display_name": "R",
   "language": "R",
   "name": "ir"
  },
  "language_info": {
   "codemirror_mode": "r",
   "file_extension": ".r",
   "mimetype": "text/x-r-source",
   "name": "R",
   "pygments_lexer": "r",
   "version": "4.1.2"
  }
 },
 "nbformat": 4,
 "nbformat_minor": 5
}
